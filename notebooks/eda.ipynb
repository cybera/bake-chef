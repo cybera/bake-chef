{
 "cells": [
  {
   "cell_type": "markdown",
   "metadata": {},
   "source": [
    "# The Bake Chef Project\n",
    "\n",
    "Here's some EDA"
   ]
  },
  {
   "cell_type": "code",
   "execution_count": null,
   "metadata": {},
   "outputs": [],
   "source": [
    "import pandas as pd\n",
    "import matplotlib.pyplot as plt\n",
    "import seaborn as sns\n",
    "import numpy as np"
   ]
  },
  {
   "cell_type": "code",
   "execution_count": null,
   "metadata": {},
   "outputs": [],
   "source": [
    "data = pd.read_csv('../data/BakeChefData - Sheet1.csv')\n",
    "data.head()"
   ]
  },
  {
   "cell_type": "markdown",
   "metadata": {},
   "source": [
    "How about which toppings seem to go together?"
   ]
  },
  {
   "cell_type": "code",
   "execution_count": null,
   "metadata": {},
   "outputs": [],
   "source": [
    "# Remove string columns\n",
    "toppings = data.iloc[:,3:]\n",
    "# Dot product of toppings matrix\n",
    "t_mat = toppings.T.dot(toppings).to_numpy()\n",
    "t_mat_norm = np.round(np.divide(t_mat, len(data)),2)\n",
    "# Plot\n",
    "fig, ax = plt.subplots(figsize=(8,8))\n",
    "plt.imshow(t_mat_norm, cmap='Blues')\n",
    "fig.patch.set_facecolor('white')\n",
    "plt.title(r'Toppings Co-occurrence Matrix ($n$=81)', fontsize=16)\n",
    "# Handle ticks\n",
    "plt.tick_params(labelbottom=False,labeltop=True)\n",
    "plt.xticks(range(12), labels=toppings.columns, rotation=90)\n",
    "plt.yticks(range(12), labels=toppings.columns)\n",
    "ax.xaxis.set_ticks_position('none')\n",
    "ax.yaxis.set_ticks_position('none')\n",
    "\n",
    "# Add numbers\n",
    "for i in range(12):\n",
    "    for j in range(12):\n",
    "        text = ax.text(j, i, t_mat[i, j],\n",
    "                       ha=\"center\", va=\"center\", color=\"k\")\n",
    "\n",
    "plt.show()\n",
    "# plt.savefig('topping-heatmap.png', dpi=400, bbox_inches='tight')"
   ]
  },
  {
   "cell_type": "code",
   "execution_count": null,
   "metadata": {},
   "outputs": [],
   "source": [
    "data['NAME'].value_counts()"
   ]
  },
  {
   "cell_type": "markdown",
   "metadata": {},
   "source": [
    "Most common unique orders"
   ]
  },
  {
   "cell_type": "code",
   "execution_count": null,
   "metadata": {},
   "outputs": [],
   "source": [
    "data.iloc[:,1:].value_counts()"
   ]
  }
 ],
 "metadata": {
  "kernelspec": {
   "display_name": "jupyter",
   "language": "python",
   "name": "python3"
  },
  "language_info": {
   "codemirror_mode": {
    "name": "ipython",
    "version": 3
   },
   "file_extension": ".py",
   "mimetype": "text/x-python",
   "name": "python",
   "nbconvert_exporter": "python",
   "pygments_lexer": "ipython3",
   "version": "3.10.13"
  }
 },
 "nbformat": 4,
 "nbformat_minor": 2
}
