{
 "cells": [
  {
   "cell_type": "markdown",
   "metadata": {},
   "source": [
    "# The Bake Chef Project\n",
    "\n",
    "Here's some EDA"
   ]
  },
  {
   "cell_type": "code",
   "execution_count": 113,
   "metadata": {},
   "outputs": [],
   "source": [
    "import pandas as pd\n",
    "import matplotlib.pyplot as plt\n",
    "import seaborn as sns\n",
    "import numpy as np"
   ]
  },
  {
   "cell_type": "code",
   "execution_count": 114,
   "metadata": {},
   "outputs": [
    {
     "data": {
      "text/html": [
       "<div>\n",
       "<style scoped>\n",
       "    .dataframe tbody tr th:only-of-type {\n",
       "        vertical-align: middle;\n",
       "    }\n",
       "\n",
       "    .dataframe tbody tr th {\n",
       "        vertical-align: top;\n",
       "    }\n",
       "\n",
       "    .dataframe thead th {\n",
       "        text-align: right;\n",
       "    }\n",
       "</style>\n",
       "<table border=\"1\" class=\"dataframe\">\n",
       "  <thead>\n",
       "    <tr style=\"text-align: right;\">\n",
       "      <th></th>\n",
       "      <th>NAME</th>\n",
       "      <th>SUB</th>\n",
       "      <th>BREAD</th>\n",
       "      <th>SUB SAUCE</th>\n",
       "      <th>MAYO</th>\n",
       "      <th>CUCUMBER</th>\n",
       "      <th>CARROTS</th>\n",
       "      <th>LETTUCE</th>\n",
       "      <th>CILANTRO</th>\n",
       "      <th>ONIONS</th>\n",
       "      <th>JALAPENO</th>\n",
       "      <th>SALT</th>\n",
       "      <th>PEPPER</th>\n",
       "      <th>SOY SAUCE</th>\n",
       "      <th>HOT SAUCE</th>\n",
       "    </tr>\n",
       "  </thead>\n",
       "  <tbody>\n",
       "    <tr>\n",
       "      <th>0</th>\n",
       "      <td>Anna</td>\n",
       "      <td>Beef Satay (no Cheese)</td>\n",
       "      <td>White</td>\n",
       "      <td>0</td>\n",
       "      <td>1</td>\n",
       "      <td>1</td>\n",
       "      <td>1</td>\n",
       "      <td>1</td>\n",
       "      <td>1</td>\n",
       "      <td>0</td>\n",
       "      <td>1</td>\n",
       "      <td>1</td>\n",
       "      <td>1</td>\n",
       "      <td>0</td>\n",
       "      <td>0</td>\n",
       "    </tr>\n",
       "    <tr>\n",
       "      <th>1</th>\n",
       "      <td>Rulan</td>\n",
       "      <td>Spicy Beef w/ Cheese</td>\n",
       "      <td>White</td>\n",
       "      <td>1</td>\n",
       "      <td>0</td>\n",
       "      <td>1</td>\n",
       "      <td>1</td>\n",
       "      <td>1</td>\n",
       "      <td>1</td>\n",
       "      <td>1</td>\n",
       "      <td>1</td>\n",
       "      <td>1</td>\n",
       "      <td>1</td>\n",
       "      <td>1</td>\n",
       "      <td>1</td>\n",
       "    </tr>\n",
       "    <tr>\n",
       "      <th>2</th>\n",
       "      <td>Rulan</td>\n",
       "      <td>Spicy Beef w/ Cheese</td>\n",
       "      <td>White</td>\n",
       "      <td>1</td>\n",
       "      <td>0</td>\n",
       "      <td>1</td>\n",
       "      <td>1</td>\n",
       "      <td>1</td>\n",
       "      <td>1</td>\n",
       "      <td>1</td>\n",
       "      <td>1</td>\n",
       "      <td>1</td>\n",
       "      <td>1</td>\n",
       "      <td>0</td>\n",
       "      <td>1</td>\n",
       "    </tr>\n",
       "    <tr>\n",
       "      <th>3</th>\n",
       "      <td>Rulan</td>\n",
       "      <td>Spicy Beef w/ Cheese</td>\n",
       "      <td>White</td>\n",
       "      <td>1</td>\n",
       "      <td>0</td>\n",
       "      <td>1</td>\n",
       "      <td>1</td>\n",
       "      <td>1</td>\n",
       "      <td>1</td>\n",
       "      <td>1</td>\n",
       "      <td>1</td>\n",
       "      <td>1</td>\n",
       "      <td>1</td>\n",
       "      <td>0</td>\n",
       "      <td>1</td>\n",
       "    </tr>\n",
       "    <tr>\n",
       "      <th>4</th>\n",
       "      <td>Jaide</td>\n",
       "      <td>Beef Satay w/ Cheese</td>\n",
       "      <td>Brown</td>\n",
       "      <td>1</td>\n",
       "      <td>0</td>\n",
       "      <td>1</td>\n",
       "      <td>1</td>\n",
       "      <td>1</td>\n",
       "      <td>0</td>\n",
       "      <td>0</td>\n",
       "      <td>0</td>\n",
       "      <td>1</td>\n",
       "      <td>1</td>\n",
       "      <td>0</td>\n",
       "      <td>0</td>\n",
       "    </tr>\n",
       "  </tbody>\n",
       "</table>\n",
       "</div>"
      ],
      "text/plain": [
       "    NAME                     SUB  BREAD  SUB SAUCE  MAYO  CUCUMBER  CARROTS  \\\n",
       "0   Anna  Beef Satay (no Cheese)  White          0     1         1        1   \n",
       "1  Rulan    Spicy Beef w/ Cheese  White          1     0         1        1   \n",
       "2  Rulan    Spicy Beef w/ Cheese  White          1     0         1        1   \n",
       "3  Rulan    Spicy Beef w/ Cheese  White          1     0         1        1   \n",
       "4  Jaide    Beef Satay w/ Cheese  Brown          1     0         1        1   \n",
       "\n",
       "   LETTUCE  CILANTRO  ONIONS  JALAPENO  SALT  PEPPER  SOY SAUCE  HOT SAUCE  \n",
       "0        1         1       0         1     1       1          0          0  \n",
       "1        1         1       1         1     1       1          1          1  \n",
       "2        1         1       1         1     1       1          0          1  \n",
       "3        1         1       1         1     1       1          0          1  \n",
       "4        1         0       0         0     1       1          0          0  "
      ]
     },
     "execution_count": 114,
     "metadata": {},
     "output_type": "execute_result"
    }
   ],
   "source": [
    "data = pd.read_csv('../data/BakeChefData - Sheet1.csv')\n",
    "data.head()"
   ]
  },
  {
   "cell_type": "markdown",
   "metadata": {},
   "source": [
    "How about which toppings seem to go together?"
   ]
  },
  {
   "cell_type": "code",
   "execution_count": 118,
   "metadata": {},
   "outputs": [
    {
     "data": {
      "image/png": "[encoded data removed]",
      "text/plain": [
       "<Figure size 576x576 with 1 Axes>"
      ]
     },
     "metadata": {
      "needs_background": "light"
     },
     "output_type": "display_data"
    }
   ],
   "source": [
    "# Remove string columns\n",
    "toppings = data.iloc[:,3:]\n",
    "# Dot product of toppings matrix\n",
    "t_mat = toppings.T.dot(toppings).to_numpy()\n",
    "t_mat_norm = np.round(np.divide(t_mat, len(data)),2)\n",
    "fig = plt.figure(figsize=(8,8))\n",
    "plt.imshow(t_mat_norm, cmap='Reds')\n",
    "plt.tick_params(labelbottom=False,labeltop=True)\n",
    "plt.xticks(range(12), labels=toppings.columns, rotation=90)\n",
    "plt.yticks(range(12), labels=toppings.columns)\n",
    "plt.title('Toppings Correlation Matrix')\n",
    "\n",
    "plt.show()"
   ]
  },
  {
   "cell_type": "code",
   "execution_count": 116,
   "metadata": {},
   "outputs": [
    {
     "data": {
      "text/plain": [
       "Jordan       25\n",
       "Rulan        11\n",
       "Jaide         7\n",
       "Derek         5\n",
       "Zach          5\n",
       "Meagan        4\n",
       "Brad          4\n",
       "Anna          3\n",
       "Aldebaran     2\n",
       "Ishruna       2\n",
       "Byron         2\n",
       "Mary G        2\n",
       "Vardaan       1\n",
       "Rishabh       1\n",
       "Bill          1\n",
       "Eric          1\n",
       "AJ            1\n",
       "Michael       1\n",
       "May Lynn      1\n",
       "Graham        1\n",
       "Barb          1\n",
       "Name: NAME, dtype: int64"
      ]
     },
     "execution_count": 116,
     "metadata": {},
     "output_type": "execute_result"
    }
   ],
   "source": [
    "data['NAME'].value_counts()"
   ]
  },
  {
   "cell_type": "markdown",
   "metadata": {},
   "source": [
    "Most common unique orders"
   ]
  },
  {
   "cell_type": "code",
   "execution_count": 117,
   "metadata": {},
   "outputs": [
    {
     "data": {
      "text/plain": [
       "SUB                        BREAD  SUB SAUCE  MAYO  CUCUMBER  CARROTS  LETTUCE  CILANTRO  ONIONS  JALAPENO  SALT  PEPPER  SOY SAUCE  HOT SAUCE\n",
       "Spicy Beef w/ Cheese       White  1          0     1         1        1        1         1       1         1     1       0          1            9\n",
       "Beef Satay w/ Cheese       Brown  1          0     1         1        1        0         0       0         1     1       0          0            7\n",
       "                           White  1          1     1         1        1        1         1       0         1     1       0          0            5\n",
       "Spicy Beef w/ Cheese       White  1          1     1         1        1        1         0       0         0     0       0          0            5\n",
       "                           Brown  0          1     1         1        1        1         0       0         1     1       0          0            3\n",
       "                           White  1          1     1         1        0        1         0       0         1     1       0          0            3\n",
       "Chicken Satay w/ Cheese    Brown  1          0     1         1        0        1         0       0         0     0       1          0            3\n",
       "Spicy Beef (no Cheese)     White  0          1     1         1        1        1         0       1         1     1       0          0            2\n",
       "Spicy Beef w/ Cheese       White  1          1     1         1        1        1         0       0         1     0       0          0            2\n",
       "                           Brown  1          1     1         1        1        1         1       1         0     1       1          1            2\n",
       "                           White  1          0     1         1        1        1         1       1         1     1       1          1            2\n",
       "Chicken Satay w/ Cheese    Brown  0          1     1         1        1        1         0       0         1     1       1          0            2\n",
       "Beef Satay w/ Cheese       White  1          1     1         1        1        1         1       0         0     0       0          0            2\n",
       "                                                                                         0       0         1     0       0          0            2\n",
       "Spicy Beef w/ Cheese       White  1          1     1         1        1        1         1       0         1     1       0          0            2\n",
       "                                                                                         0       0         1     1       0          0            1\n",
       "                           Brown  1          1     1         1        1        0         1       0         0     0       0          1            1\n",
       "                           White  1          1     1         1        1        0         0       0         1     1       0          0            1\n",
       "                                                   0         1        0        1         1       1         1     1       0          0            1\n",
       "Spolumbo Chicken Apple     White  1          1     1         0        1        1         0       0         1     1       0          0            1\n",
       "Spicy Beef w/ Cheese       White  1          0     1         1        1        0         0       1         0     1       0          1            1\n",
       "                                                                                                                 0       1          1            1\n",
       "Spolumbo Chicken Apple     White  1          1     1         1        1        1         0       0         0     0       0          0            1\n",
       "Tuna w/ Cheese             White  1          0     1         0        1        1         0       0         1     1       0          0            1\n",
       "Spicy Beef w/ Cheese       Brown  1          1     1         1        1        1         0       0         1     1       0          1            1\n",
       "                                                                                                                                    0            1\n",
       "Beef Satay (no Cheese)     White  0          1     1         1        1        1         0       1         1     1       0          0            1\n",
       "Spicy Beef w/ Cheese       Brown  1          1     1         1        0        0         0       0         0     0       0          1            1\n",
       "                                                   0         1        0        1         1       1         1     1       0          0            1\n",
       "Beef Satay w/ Cheese       Brown  1          1     1         1        1        1         0       0         0     0       0          0            1\n",
       "                           White  1          0     1         1        0        1         0       0         0     1       0          0            1\n",
       "                                                                      1        0         0       1         0     0       0          0            1\n",
       "                                             1     1         1        1        0         0       0         1     1       0          0            1\n",
       "Chicken Satay (no Cheese)  Brown  1          1     1         1        1        1         0       1         1     1       0          1            1\n",
       "Chicken Satay w/ Cheese    Brown  0          1     1         1        1        1         0       0         0     1       0          0            1\n",
       "                                                                                                           1     1       0          0            1\n",
       "                                  1          0     1         1        0        1         0       0         0     0       0          0            1\n",
       "                                                                      1        1         1       1         0     0       0          1            1\n",
       "                           White  1          0     1         1        1        0         0       1         0     0       0          1            1\n",
       "                                                                                                                         1          0            1\n",
       "                                             1     0         0        1        1         1       0         1     1       0          1            1\n",
       "Roasted Chicken w/ Cheese  Brown  1          0     1         1        1        0         0       0         0     0       0          1            1\n",
       "Spicy Beef (no Cheese)     Brown  0          0     1         1        1        1         0       1         0     0       1          1            1\n",
       "Beef Satay w/ Cheese       Brown  1          0     1         1        0        1         0       0         0     1       0          0            1\n",
       "Veggie w/ Cheese           Brown  1          1     1         1        0        0         1       1         1     1       1          1            1\n",
       "dtype: int64"
      ]
     },
     "execution_count": 117,
     "metadata": {},
     "output_type": "execute_result"
    }
   ],
   "source": [
    "data.iloc[:,1:].value_counts()"
   ]
  },
  {
   "cell_type": "code",
   "execution_count": null,
   "metadata": {},
   "outputs": [],
   "source": []
  }
 ],
 "metadata": {
  "kernelspec": {
   "display_name": "jupyter",
   "language": "python",
   "name": "python3"
  },
  "language_info": {
   "codemirror_mode": {
    "name": "ipython",
    "version": 3
   },
   "file_extension": ".py",
   "mimetype": "text/x-python",
   "name": "python",
   "nbconvert_exporter": "python",
   "pygments_lexer": "ipython3",
   "version": "3.10.4"
  }
 },
 "nbformat": 4,
 "nbformat_minor": 2
}
